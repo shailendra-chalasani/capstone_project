{
  "cells": [
    {
      "cell_type": "code",
      "execution_count": 1,
      "metadata": {
        "id": "fGlFTgqc72Sn"
      },
      "outputs": [],
      "source": [
        "import pandas as pd\n",
        "import numpy as np\n",
        "import plotly.express as px\n",
        "import matplotlib.pyplot as plt\n",
        "import nltk\n",
        "import os\n",
        "import seaborn as sns\n",
        "\n",
        "import altair as alt\n",
        "alt.data_transformers.disable_max_rows()\n",
        "alt.themes.enable('fivethirtyeight')\n",
        "\n",
        "import plotly.graph_objects as go\n",
        "import plotly.io as pio\n",
        "pio.templates.default = \"plotly_white\"\n",
        "\n",
        "# supress warnings\n",
        "import warnings\n",
        "warnings.filterwarnings('ignore')\n",
        "warnings.filterwarnings('ignore', category=DeprecationWarning)\n",
        "warnings.filterwarnings('ignore', category=FutureWarning)\n",
        "warnings.filterwarnings('ignore', category=UserWarning)\n",
        "\n",
        "from scipy.stats import ttest_ind\n",
        "\n",
        "from sklearn.cluster import KMeans\n",
        "\n",
        "\n",
        "from textblob import TextBlob"
      ]
    },
    {
      "cell_type": "code",
      "execution_count": 2,
      "metadata": {
        "colab": {
          "base_uri": "https://localhost:8080/"
        },
        "id": "OhXne4LU9KHM",
        "outputId": "0eab0ac6-bc01-4520-efb3-9876c714811c"
      },
      "outputs": [
        {
          "output_type": "stream",
          "name": "stdout",
          "text": [
            "Mounted at /content/drive\n"
          ]
        }
      ],
      "source": [
        "from google.colab import drive\n",
        "drive.mount('/content/drive')"
      ]
    },
    {
      "cell_type": "code",
      "execution_count": 3,
      "metadata": {
        "id": "YuBqvRJJ9NEv"
      },
      "outputs": [],
      "source": [
        "root_path = '/content/drive/My Drive/airbnb/nyc-airbnb/'\n",
        "files = os.listdir(root_path)\n",
        "dates = [f[4:] for f in files if f.startswith('nyc')]\n",
        "dates = sorted(dates)"
      ]
    },
    {
      "cell_type": "code",
      "execution_count": 4,
      "metadata": {
        "colab": {
          "base_uri": "https://localhost:8080/"
        },
        "id": "JhJSk4IfCdpt",
        "outputId": "e7d9e665-c1df-40e0-884c-d2b158a32758"
      },
      "outputs": [
        {
          "output_type": "execute_result",
          "data": {
            "text/plain": [
              "['2022-11-02',\n",
              " '2022-12-04',\n",
              " '2023-01-04',\n",
              " '2023-02-05',\n",
              " '2023-03-06',\n",
              " '2023-04-05',\n",
              " '2023-05-03',\n",
              " '2023-06-05',\n",
              " '2023-07-03',\n",
              " '2023-08-04',\n",
              " '2023-09-05',\n",
              " '2023-10-01']"
            ]
          },
          "metadata": {},
          "execution_count": 4
        }
      ],
      "source": [
        "dates"
      ]
    },
    {
      "cell_type": "code",
      "execution_count": 5,
      "metadata": {
        "id": "DD3Oi7bE9X2K"
      },
      "outputs": [],
      "source": [
        "dfs = {}\n",
        "for date in dates:\n",
        "  path = f'{root_path}nyc-{date}/listings.csv.gz'\n",
        "  temp = pd.read_csv(path, compression = 'gzip')\n",
        "  temp['price'] = temp['price'].str.replace(\"$\", \"\").str.replace(\",\", \"\").astype(float)\n",
        "  dfs[date] = temp"
      ]
    },
    {
      "cell_type": "code",
      "execution_count": 6,
      "metadata": {
        "id": "uWxID7Hz_8UN"
      },
      "outputs": [],
      "source": [
        "df_all = []\n",
        "for i in range(len(dates)):\n",
        "  curr_date = dates[i]\n",
        "  next_date = dates[i+1] if i < len(dates)-1 else \"\"\n",
        "  date_df = dfs[curr_date]\n",
        "  date_df[\"date\"] = curr_date\n",
        "  date_df[\"next_date\"] = next_date\n",
        "  df_all.append(date_df)\n",
        "df_all = pd.concat(df_all)\n",
        "next_df = df_all[[\"id\",\"date\"]].rename(columns={\"date\": \"next_date\"})\n",
        "next_df[\"drop\"] = 0\n",
        "df_all = pd.merge(df_all, next_df, on=[\"id\",\"next_date\"], how=\"left\")\n",
        "df_all[\"drop\"] = df_all[\"drop\"].fillna(1)\n",
        "df_all = df_all[(~df_all[\"date\"].isin([\"2023-08-04\",\"2023-10-01\"]))]\n",
        "\n",
        "one_hot_encoded_df = pd.get_dummies(df_all['neighbourhood_group_cleansed'], prefix='neighborhood_')\n",
        "df_all = df_all.join(one_hot_encoded_df)\n",
        "df_all = df_all[df_all[\"price\"] != 0]\n",
        "df_all[\"log_price\"] = np.log(df_all[\"price\"])"
      ]
    },
    {
      "cell_type": "code",
      "source": [
        "df_all['calculated_host_listings_count']"
      ],
      "metadata": {
        "colab": {
          "base_uri": "https://localhost:8080/"
        },
        "id": "pyxW9bQdVTU2",
        "outputId": "e85905f3-cc71-4e2c-f52a-ee735f089534"
      },
      "execution_count": 7,
      "outputs": [
        {
          "output_type": "execute_result",
          "data": {
            "text/plain": [
              "0         3\n",
              "1         1\n",
              "2         2\n",
              "3         1\n",
              "4         2\n",
              "         ..\n",
              "466370    1\n",
              "466371    1\n",
              "466372    1\n",
              "466373    1\n",
              "466374    1\n",
              "Name: calculated_host_listings_count, Length: 422582, dtype: int64"
            ]
          },
          "metadata": {},
          "execution_count": 7
        }
      ]
    },
    {
      "cell_type": "code",
      "execution_count": 8,
      "metadata": {
        "id": "MgCI9PD9IpLv",
        "colab": {
          "base_uri": "https://localhost:8080/"
        },
        "outputId": "86bf79b8-3ee0-4afd-c167-9c51201703c5"
      },
      "outputs": [
        {
          "output_type": "execute_result",
          "data": {
            "text/plain": [
              "date\n",
              "2022-11-02    1327.0\n",
              "2022-12-04    1809.0\n",
              "2023-01-04    2818.0\n",
              "2023-02-05    2196.0\n",
              "2023-03-06    2124.0\n",
              "2023-04-05    2171.0\n",
              "2023-05-03    2124.0\n",
              "2023-06-05    1825.0\n",
              "2023-07-03    2043.0\n",
              "2023-09-05    2554.0\n",
              "Name: drop, dtype: float64"
            ]
          },
          "metadata": {},
          "execution_count": 8
        }
      ],
      "source": [
        "df_all.groupby(\"date\")[\"drop\"].sum()"
      ]
    },
    {
      "cell_type": "code",
      "source": [
        "df_all.columns"
      ],
      "metadata": {
        "colab": {
          "base_uri": "https://localhost:8080/"
        },
        "id": "q7DEbSudqqxb",
        "outputId": "aa990681-e222-4b45-d179-61d5f4d5b444"
      },
      "execution_count": 9,
      "outputs": [
        {
          "output_type": "execute_result",
          "data": {
            "text/plain": [
              "Index(['id', 'listing_url', 'scrape_id', 'last_scraped', 'source', 'name',\n",
              "       'description', 'neighborhood_overview', 'picture_url', 'host_id',\n",
              "       'host_url', 'host_name', 'host_since', 'host_location', 'host_about',\n",
              "       'host_response_time', 'host_response_rate', 'host_acceptance_rate',\n",
              "       'host_is_superhost', 'host_thumbnail_url', 'host_picture_url',\n",
              "       'host_neighbourhood', 'host_listings_count',\n",
              "       'host_total_listings_count', 'host_verifications',\n",
              "       'host_has_profile_pic', 'host_identity_verified', 'neighbourhood',\n",
              "       'neighbourhood_cleansed', 'neighbourhood_group_cleansed', 'latitude',\n",
              "       'longitude', 'property_type', 'room_type', 'accommodates', 'bathrooms',\n",
              "       'bathrooms_text', 'bedrooms', 'beds', 'amenities', 'price',\n",
              "       'minimum_nights', 'maximum_nights', 'minimum_minimum_nights',\n",
              "       'maximum_minimum_nights', 'minimum_maximum_nights',\n",
              "       'maximum_maximum_nights', 'minimum_nights_avg_ntm',\n",
              "       'maximum_nights_avg_ntm', 'calendar_updated', 'has_availability',\n",
              "       'availability_30', 'availability_60', 'availability_90',\n",
              "       'availability_365', 'calendar_last_scraped', 'number_of_reviews',\n",
              "       'number_of_reviews_ltm', 'number_of_reviews_l30d', 'first_review',\n",
              "       'last_review', 'review_scores_rating', 'review_scores_accuracy',\n",
              "       'review_scores_cleanliness', 'review_scores_checkin',\n",
              "       'review_scores_communication', 'review_scores_location',\n",
              "       'review_scores_value', 'license', 'instant_bookable',\n",
              "       'calculated_host_listings_count',\n",
              "       'calculated_host_listings_count_entire_homes',\n",
              "       'calculated_host_listings_count_private_rooms',\n",
              "       'calculated_host_listings_count_shared_rooms', 'reviews_per_month',\n",
              "       'date', 'next_date', 'drop', 'neighborhood__Bronx',\n",
              "       'neighborhood__Brooklyn', 'neighborhood__Manhattan',\n",
              "       'neighborhood__Queens', 'neighborhood__Staten Island', 'log_price'],\n",
              "      dtype='object')"
            ]
          },
          "metadata": {},
          "execution_count": 9
        }
      ]
    },
    {
      "cell_type": "code",
      "source": [
        "df_before_law = df_all[df_all['date'] <= '2023-07-03']\n",
        "df_before_law['constant'] = 1\n",
        "df_before_law['host_since'] = pd.to_datetime(df_before_law['host_since'])\n",
        "df_before_law['host_years'] = 2023 - df_before_law['host_since'].dt.year"
      ],
      "metadata": {
        "id": "C0cfC6tHIjAR"
      },
      "execution_count": 10,
      "outputs": []
    },
    {
      "cell_type": "code",
      "source": [
        "df_all['date_dummy'] = (df_all['date']>= '2023-09-05').astype(int)\n",
        "df_all['constant'] = 1\n",
        "df_all['host_since'] = pd.to_datetime(df_all['host_since'])\n",
        "df_all['host_years'] = 2023 - df_all['host_since'].dt.year"
      ],
      "metadata": {
        "id": "7Own9En0_juh"
      },
      "execution_count": 11,
      "outputs": []
    },
    {
      "cell_type": "code",
      "source": [
        "from sklearn.model_selection import train_test_split\n",
        "from sklearn.linear_model import LogisticRegression\n",
        "from sklearn.preprocessing import StandardScaler\n",
        "from sklearn.metrics import classification_report, confusion_matrix\n",
        "from imblearn.over_sampling import SMOTE\n",
        "import statsmodels.api as sm\n",
        "\n",
        "\n",
        "neighborhood_dummy = ['neighborhood__Bronx',\n",
        "                      'neighborhood__Brooklyn',\n",
        "                      #'neighborhood__Manhattan',\n",
        "                      'neighborhood__Queens',\n",
        "                      'neighborhood__Staten Island']\n",
        "\n",
        "\n",
        "\n",
        "scaler = StandardScaler()\n",
        "scaler_needed_columns = ['log_price','availability_30', #'availability_60',\n",
        "                         #'availability_365',\n",
        "                         'beds','host_listings_count',\n",
        "                         'review_scores_rating',#'review_scores_accuracy',\n",
        "                         #'review_scores_cleanliness','review_scores_checkin',\n",
        "                        # 'review_scores_communication','review_scores_location',\n",
        "                        # 'review_scores_value',\n",
        "                         #'accommodates',\n",
        "                         'host_years']\n",
        "x = df_before_law.copy()\n",
        "x[scaler_needed_columns] = scaler.fit_transform(x[scaler_needed_columns])\n",
        "\n",
        "## nights that greater than 30days becomes 1, otherwise 0\n",
        "x[\"minimum_nights_30\"] = x[\"minimum_nights\"] // 30\n",
        "x[\"minimum_nights_30\"] = np.minimum(x[\"minimum_nights_30\"], 1)\n",
        "x[\"maximum_nights_30\"] = x[\"maximum_nights\"] // 30\n",
        "x[\"maximum_nights_30\"] = np.minimum(x[\"maximum_nights_30\"], 1)\n",
        "x[\"accommodates_2\"] = np.minimum(x[\"accommodates\"]//2, 3)\n",
        "x['instant_bookable_'] = x['instant_bookable'].map({'f': 0, 't': 1}).fillna(0)\n",
        "x['host_is_superhost_'] = x['host_is_superhost'].map({'f':0, 't':1}).fillna(0)\n",
        "\n",
        "initial_columns = scaler_needed_columns+['constant',#'minimum_nights_30',\n",
        "                                         #'maximum_nights_30',\n",
        "                                         'accommodates_2',\n",
        "                                         'instant_bookable_',\n",
        "                                         'host_is_superhost_'] + neighborhood_dummy\n",
        "\n",
        "# add dummy to the columns\n",
        "# dummy_columns = []\n",
        "# for column in initial_columns:\n",
        "#   x[f'{column}_dummy'] = x[column] * x['date_dummy']\n",
        "#   dummy_columns.append(f'{column}_dummy')\n",
        "\n",
        "columns = initial_columns\n",
        "\n",
        "x = x[x[columns].notnull().all(axis=1)]\n",
        "X = x[columns]\n",
        "y = x['drop']\n",
        "X_train, X_test, y_train, y_test = train_test_split(X, y, test_size=0.2, random_state=42)\n",
        "smote = SMOTE(random_state=42)\n",
        "X_train, y_train = smote.fit_resample(X_train, y_train)\n",
        "sm_model = sm.Logit(y_train, X_train)\n",
        "sm_res = sm_model.fit()"
      ],
      "metadata": {
        "colab": {
          "base_uri": "https://localhost:8080/"
        },
        "id": "X1tQ8GzxKrv-",
        "outputId": "9606f191-5391-4bcb-f402-35a4fe3358f0"
      },
      "execution_count": 12,
      "outputs": [
        {
          "output_type": "stream",
          "name": "stdout",
          "text": [
            "Optimization terminated successfully.\n",
            "         Current function value: 0.664113\n",
            "         Iterations 5\n"
          ]
        }
      ]
    },
    {
      "cell_type": "code",
      "source": [
        "sm_res.summary()"
      ],
      "metadata": {
        "colab": {
          "base_uri": "https://localhost:8080/",
          "height": 508
        },
        "id": "RREpyJmeRXsN",
        "outputId": "b3d367d4-3b77-460b-d8af-1f6bf7ce0a34"
      },
      "execution_count": 13,
      "outputs": [
        {
          "output_type": "execute_result",
          "data": {
            "text/plain": [
              "<class 'statsmodels.iolib.summary.Summary'>\n",
              "\"\"\"\n",
              "                           Logit Regression Results                           \n",
              "==============================================================================\n",
              "Dep. Variable:                   drop   No. Observations:               442270\n",
              "Model:                          Logit   Df Residuals:                   442256\n",
              "Method:                           MLE   Df Model:                           13\n",
              "Date:                Mon, 27 Nov 2023   Pseudo R-squ.:                 0.04189\n",
              "Time:                        19:55:17   Log-Likelihood:            -2.9372e+05\n",
              "converged:                       True   LL-Null:                   -3.0656e+05\n",
              "Covariance Type:            nonrobust   LLR p-value:                     0.000\n",
              "===============================================================================================\n",
              "                                  coef    std err          z      P>|z|      [0.025      0.975]\n",
              "-----------------------------------------------------------------------------------------------\n",
              "log_price                       0.1582      0.005     34.932      0.000       0.149       0.167\n",
              "availability_30                 0.2828      0.003     89.164      0.000       0.277       0.289\n",
              "beds                           -0.0058      0.004     -1.371      0.170      -0.014       0.002\n",
              "host_listings_count            -0.0995      0.008    -11.846      0.000      -0.116      -0.083\n",
              "review_scores_rating           -0.0267      0.003     -7.944      0.000      -0.033      -0.020\n",
              "host_years                     -0.2418      0.003    -73.956      0.000      -0.248      -0.235\n",
              "constant                        0.3097      0.009     36.131      0.000       0.293       0.327\n",
              "accommodates_2                 -0.1442      0.006    -25.559      0.000      -0.155      -0.133\n",
              "instant_bookable_               0.0834      0.008     11.039      0.000       0.069       0.098\n",
              "host_is_superhost_             -0.1642      0.008    -21.332      0.000      -0.179      -0.149\n",
              "neighborhood__Bronx            -0.3466      0.017    -20.678      0.000      -0.379      -0.314\n",
              "neighborhood__Brooklyn         -0.3189      0.007    -43.094      0.000      -0.333      -0.304\n",
              "neighborhood__Queens           -0.3252      0.010    -33.358      0.000      -0.344      -0.306\n",
              "neighborhood__Staten Island    -0.9805      0.037    -26.680      0.000      -1.053      -0.908\n",
              "===============================================================================================\n",
              "\"\"\""
            ],
            "text/html": [
              "<table class=\"simpletable\">\n",
              "<caption>Logit Regression Results</caption>\n",
              "<tr>\n",
              "  <th>Dep. Variable:</th>         <td>drop</td>       <th>  No. Observations:  </th>   <td>442270</td>   \n",
              "</tr>\n",
              "<tr>\n",
              "  <th>Model:</th>                 <td>Logit</td>      <th>  Df Residuals:      </th>   <td>442256</td>   \n",
              "</tr>\n",
              "<tr>\n",
              "  <th>Method:</th>                 <td>MLE</td>       <th>  Df Model:          </th>   <td>    13</td>   \n",
              "</tr>\n",
              "<tr>\n",
              "  <th>Date:</th>            <td>Mon, 27 Nov 2023</td> <th>  Pseudo R-squ.:     </th>   <td>0.04189</td>  \n",
              "</tr>\n",
              "<tr>\n",
              "  <th>Time:</th>                <td>19:55:17</td>     <th>  Log-Likelihood:    </th> <td>-2.9372e+05</td>\n",
              "</tr>\n",
              "<tr>\n",
              "  <th>converged:</th>             <td>True</td>       <th>  LL-Null:           </th> <td>-3.0656e+05</td>\n",
              "</tr>\n",
              "<tr>\n",
              "  <th>Covariance Type:</th>     <td>nonrobust</td>    <th>  LLR p-value:       </th>   <td> 0.000</td>   \n",
              "</tr>\n",
              "</table>\n",
              "<table class=\"simpletable\">\n",
              "<tr>\n",
              "               <td></td>                  <th>coef</th>     <th>std err</th>      <th>z</th>      <th>P>|z|</th>  <th>[0.025</th>    <th>0.975]</th>  \n",
              "</tr>\n",
              "<tr>\n",
              "  <th>log_price</th>                   <td>    0.1582</td> <td>    0.005</td> <td>   34.932</td> <td> 0.000</td> <td>    0.149</td> <td>    0.167</td>\n",
              "</tr>\n",
              "<tr>\n",
              "  <th>availability_30</th>             <td>    0.2828</td> <td>    0.003</td> <td>   89.164</td> <td> 0.000</td> <td>    0.277</td> <td>    0.289</td>\n",
              "</tr>\n",
              "<tr>\n",
              "  <th>beds</th>                        <td>   -0.0058</td> <td>    0.004</td> <td>   -1.371</td> <td> 0.170</td> <td>   -0.014</td> <td>    0.002</td>\n",
              "</tr>\n",
              "<tr>\n",
              "  <th>host_listings_count</th>         <td>   -0.0995</td> <td>    0.008</td> <td>  -11.846</td> <td> 0.000</td> <td>   -0.116</td> <td>   -0.083</td>\n",
              "</tr>\n",
              "<tr>\n",
              "  <th>review_scores_rating</th>        <td>   -0.0267</td> <td>    0.003</td> <td>   -7.944</td> <td> 0.000</td> <td>   -0.033</td> <td>   -0.020</td>\n",
              "</tr>\n",
              "<tr>\n",
              "  <th>host_years</th>                  <td>   -0.2418</td> <td>    0.003</td> <td>  -73.956</td> <td> 0.000</td> <td>   -0.248</td> <td>   -0.235</td>\n",
              "</tr>\n",
              "<tr>\n",
              "  <th>constant</th>                    <td>    0.3097</td> <td>    0.009</td> <td>   36.131</td> <td> 0.000</td> <td>    0.293</td> <td>    0.327</td>\n",
              "</tr>\n",
              "<tr>\n",
              "  <th>accommodates_2</th>              <td>   -0.1442</td> <td>    0.006</td> <td>  -25.559</td> <td> 0.000</td> <td>   -0.155</td> <td>   -0.133</td>\n",
              "</tr>\n",
              "<tr>\n",
              "  <th>instant_bookable_</th>           <td>    0.0834</td> <td>    0.008</td> <td>   11.039</td> <td> 0.000</td> <td>    0.069</td> <td>    0.098</td>\n",
              "</tr>\n",
              "<tr>\n",
              "  <th>host_is_superhost_</th>          <td>   -0.1642</td> <td>    0.008</td> <td>  -21.332</td> <td> 0.000</td> <td>   -0.179</td> <td>   -0.149</td>\n",
              "</tr>\n",
              "<tr>\n",
              "  <th>neighborhood__Bronx</th>         <td>   -0.3466</td> <td>    0.017</td> <td>  -20.678</td> <td> 0.000</td> <td>   -0.379</td> <td>   -0.314</td>\n",
              "</tr>\n",
              "<tr>\n",
              "  <th>neighborhood__Brooklyn</th>      <td>   -0.3189</td> <td>    0.007</td> <td>  -43.094</td> <td> 0.000</td> <td>   -0.333</td> <td>   -0.304</td>\n",
              "</tr>\n",
              "<tr>\n",
              "  <th>neighborhood__Queens</th>        <td>   -0.3252</td> <td>    0.010</td> <td>  -33.358</td> <td> 0.000</td> <td>   -0.344</td> <td>   -0.306</td>\n",
              "</tr>\n",
              "<tr>\n",
              "  <th>neighborhood__Staten Island</th> <td>   -0.9805</td> <td>    0.037</td> <td>  -26.680</td> <td> 0.000</td> <td>   -1.053</td> <td>   -0.908</td>\n",
              "</tr>\n",
              "</table>"
            ],
            "text/latex": "\\begin{center}\n\\begin{tabular}{lclc}\n\\toprule\n\\textbf{Dep. Variable:}                &       drop       & \\textbf{  No. Observations:  } &    442270    \\\\\n\\textbf{Model:}                        &      Logit       & \\textbf{  Df Residuals:      } &    442256    \\\\\n\\textbf{Method:}                       &       MLE        & \\textbf{  Df Model:          } &        13    \\\\\n\\textbf{Date:}                         & Mon, 27 Nov 2023 & \\textbf{  Pseudo R-squ.:     } &   0.04189    \\\\\n\\textbf{Time:}                         &     19:55:17     & \\textbf{  Log-Likelihood:    } & -2.9372e+05  \\\\\n\\textbf{converged:}                    &       True       & \\textbf{  LL-Null:           } & -3.0656e+05  \\\\\n\\textbf{Covariance Type:}              &    nonrobust     & \\textbf{  LLR p-value:       } &     0.000    \\\\\n\\bottomrule\n\\end{tabular}\n\\begin{tabular}{lcccccc}\n                                       & \\textbf{coef} & \\textbf{std err} & \\textbf{z} & \\textbf{P$> |$z$|$} & \\textbf{[0.025} & \\textbf{0.975]}  \\\\\n\\midrule\n\\textbf{log\\_price}                    &       0.1582  &        0.005     &    34.932  &         0.000        &        0.149    &        0.167     \\\\\n\\textbf{availability\\_30}              &       0.2828  &        0.003     &    89.164  &         0.000        &        0.277    &        0.289     \\\\\n\\textbf{beds}                          &      -0.0058  &        0.004     &    -1.371  &         0.170        &       -0.014    &        0.002     \\\\\n\\textbf{host\\_listings\\_count}         &      -0.0995  &        0.008     &   -11.846  &         0.000        &       -0.116    &       -0.083     \\\\\n\\textbf{review\\_scores\\_rating}        &      -0.0267  &        0.003     &    -7.944  &         0.000        &       -0.033    &       -0.020     \\\\\n\\textbf{host\\_years}                   &      -0.2418  &        0.003     &   -73.956  &         0.000        &       -0.248    &       -0.235     \\\\\n\\textbf{constant}                      &       0.3097  &        0.009     &    36.131  &         0.000        &        0.293    &        0.327     \\\\\n\\textbf{accommodates\\_2}               &      -0.1442  &        0.006     &   -25.559  &         0.000        &       -0.155    &       -0.133     \\\\\n\\textbf{instant\\_bookable\\_}           &       0.0834  &        0.008     &    11.039  &         0.000        &        0.069    &        0.098     \\\\\n\\textbf{host\\_is\\_superhost\\_}         &      -0.1642  &        0.008     &   -21.332  &         0.000        &       -0.179    &       -0.149     \\\\\n\\textbf{neighborhood\\_\\_Bronx}         &      -0.3466  &        0.017     &   -20.678  &         0.000        &       -0.379    &       -0.314     \\\\\n\\textbf{neighborhood\\_\\_Brooklyn}      &      -0.3189  &        0.007     &   -43.094  &         0.000        &       -0.333    &       -0.304     \\\\\n\\textbf{neighborhood\\_\\_Queens}        &      -0.3252  &        0.010     &   -33.358  &         0.000        &       -0.344    &       -0.306     \\\\\n\\textbf{neighborhood\\_\\_Staten Island} &      -0.9805  &        0.037     &   -26.680  &         0.000        &       -1.053    &       -0.908     \\\\\n\\bottomrule\n\\end{tabular}\n%\\caption{Logit Regression Results}\n\\end{center}"
          },
          "metadata": {},
          "execution_count": 13
        }
      ]
    },
    {
      "cell_type": "code",
      "source": [
        "from sklearn.model_selection import train_test_split\n",
        "from sklearn.linear_model import LogisticRegression\n",
        "from sklearn.preprocessing import StandardScaler\n",
        "from sklearn.metrics import classification_report, confusion_matrix\n",
        "from imblearn.over_sampling import SMOTE\n",
        "import statsmodels.api as sm\n",
        "\n",
        "\n",
        "neighborhood_dummy = ['neighborhood__Bronx',\n",
        "                      'neighborhood__Brooklyn',\n",
        "                      #'neighborhood__Manhattan',\n",
        "                      'neighborhood__Queens',\n",
        "                      'neighborhood__Staten Island']\n",
        "\n",
        "\n",
        "\n",
        "scaler = StandardScaler()\n",
        "x = df_all.copy()\n",
        "x[\"host_listings_count\"] = np.minimum(x[\"host_listings_count\"], 2)\n",
        "\n",
        "scaler_needed_columns = ['log_price',\n",
        "                         'availability_30',\n",
        "                         'beds',\n",
        "                         'host_listings_count',\n",
        "                         'review_scores_rating',\n",
        "                         'number_of_reviews',\n",
        "                         'host_years']\n",
        "\n",
        "x[scaler_needed_columns] = scaler.fit_transform(x[scaler_needed_columns])\n",
        "\n",
        "## nights that greater than 30days becomes 1, otherwise 0\n",
        "x[\"minimum_nights_30\"] = x[\"minimum_nights\"] // 30\n",
        "x[\"minimum_nights_30\"] = np.minimum(x[\"minimum_nights_30\"], 1)\n",
        "x[\"maximum_nights_30\"] = x[\"maximum_nights\"] // 30\n",
        "x[\"maximum_nights_30\"] = np.minimum(x[\"maximum_nights_30\"], 1)\n",
        "x[\"accommodates_2\"] = np.minimum(x[\"accommodates\"]//2, 3)\n",
        "x['instant_bookable_'] = x['instant_bookable'].map({'f': 0, 't': 1}).fillna(0)\n",
        "x['host_is_superhost_'] = x['host_is_superhost'].map({'f':0, 't':1}).fillna(0)\n",
        "\n",
        "initial_columns = scaler_needed_columns+['constant',\n",
        "                                         'accommodates_2', 'instant_bookable_',\n",
        "                                         'host_is_superhost_'] + neighborhood_dummy\n",
        "\n",
        "# add dummy to the columns\n",
        "dummy_columns = []\n",
        "for column in initial_columns:\n",
        "  x[f'{column}_dummy'] = x[column] * x['date_dummy']\n",
        "  dummy_columns.append(f'{column}_dummy')\n",
        "\n",
        "columns = initial_columns+dummy_columns\n",
        "\n",
        "x = x[x[columns].notnull().all(axis=1)]\n",
        "X = x[columns]\n",
        "y = x['drop']\n",
        "X_train, X_test, y_train, y_test = train_test_split(X, y, test_size=0.2, random_state=42)\n",
        "smote = SMOTE(random_state=42)\n",
        "X_train, y_train = smote.fit_resample(X_train, y_train)\n",
        "sm_model = sm.Logit(y_train, X_train)\n",
        "sm_res = sm_model.fit()\n",
        "#y_pred_prob = sm_res.predict(X_test)\n",
        "#p_pred = sm_res.predict_proba(X_test)"
      ],
      "metadata": {
        "colab": {
          "base_uri": "https://localhost:8080/"
        },
        "id": "lbjseYQ-Cxo_",
        "outputId": "dafacc96-e6d4-4b4d-c932-1c645746d4b6"
      },
      "execution_count": 14,
      "outputs": [
        {
          "output_type": "stream",
          "name": "stdout",
          "text": [
            "Optimization terminated successfully.\n",
            "         Current function value: 0.650127\n",
            "         Iterations 5\n"
          ]
        }
      ]
    },
    {
      "cell_type": "code",
      "source": [
        "df_all.groupby(\"date\")[\"drop\"].sum() / df_all.groupby(\"date\")[\"drop\"].apply(len)"
      ],
      "metadata": {
        "colab": {
          "base_uri": "https://localhost:8080/"
        },
        "id": "8NRj3eoFqMB-",
        "outputId": "5db4ed87-48b4-4c51-8895-b550e57e1e6f"
      },
      "execution_count": null,
      "outputs": [
        {
          "output_type": "execute_result",
          "data": {
            "text/plain": [
              "date\n",
              "2022-11-02    0.033583\n",
              "2022-12-04    0.043587\n",
              "2023-01-04    0.065958\n",
              "2023-02-05    0.051415\n",
              "2023-03-06    0.049506\n",
              "2023-04-05    0.050228\n",
              "2023-05-03    0.049069\n",
              "2023-06-05    0.041906\n",
              "2023-07-03    0.046735\n",
              "2023-09-05    0.064737\n",
              "Name: drop, dtype: float64"
            ]
          },
          "metadata": {},
          "execution_count": 16
        }
      ]
    },
    {
      "cell_type": "code",
      "source": [
        "x = df_all.copy()\n",
        "x[\"host_listings_count\"] = np.minimum(x[\"host_listings_count\"], 2)\n",
        "x.groupby([\"date_dummy\",\"host_listings_count\"]).apply(len)"
      ],
      "metadata": {
        "colab": {
          "base_uri": "https://localhost:8080/"
        },
        "id": "oGGQarp9pTY-",
        "outputId": "222f3759-c8bd-491a-d732-0f24f375d8d0"
      },
      "execution_count": null,
      "outputs": [
        {
          "output_type": "execute_result",
          "data": {
            "text/plain": [
              "date_dummy  host_listings_count\n",
              "0           1.0                    181679\n",
              "            2.0                    201406\n",
              "1           0.0                         1\n",
              "            1.0                     18099\n",
              "            2.0                     21347\n",
              "dtype: int64"
            ]
          },
          "metadata": {},
          "execution_count": 35
        }
      ]
    },
    {
      "cell_type": "code",
      "source": [
        "sm_res.summary()"
      ],
      "metadata": {
        "colab": {
          "base_uri": "https://localhost:8080/",
          "height": 850
        },
        "id": "Heau884DZtvw",
        "outputId": "02c86daa-e7a7-40eb-c302-e17ea77cb03c"
      },
      "execution_count": 15,
      "outputs": [
        {
          "output_type": "execute_result",
          "data": {
            "text/plain": [
              "<class 'statsmodels.iolib.summary.Summary'>\n",
              "\"\"\"\n",
              "                           Logit Regression Results                           \n",
              "==============================================================================\n",
              "Dep. Variable:                   drop   No. Observations:               485286\n",
              "Model:                          Logit   Df Residuals:                   485256\n",
              "Method:                           MLE   Df Model:                           29\n",
              "Date:                Mon, 27 Nov 2023   Pseudo R-squ.:                 0.06207\n",
              "Time:                        19:57:29   Log-Likelihood:            -3.1550e+05\n",
              "converged:                       True   LL-Null:                   -3.3637e+05\n",
              "Covariance Type:            nonrobust   LLR p-value:                     0.000\n",
              "=====================================================================================================\n",
              "                                        coef    std err          z      P>|z|      [0.025      0.975]\n",
              "-----------------------------------------------------------------------------------------------------\n",
              "log_price                             0.1896      0.005     40.063      0.000       0.180       0.199\n",
              "availability_30                       0.2594      0.003     79.344      0.000       0.253       0.266\n",
              "beds                                 -0.0109      0.005     -2.412      0.016      -0.020      -0.002\n",
              "host_listings_count                   0.2066      0.003     61.479      0.000       0.200       0.213\n",
              "review_scores_rating                 -0.0026      0.003     -0.750      0.453      -0.009       0.004\n",
              "number_of_reviews                    -0.0606      0.003    -20.466      0.000      -0.066      -0.055\n",
              "host_years                           -0.2393      0.003    -70.292      0.000      -0.246      -0.233\n",
              "constant                              0.3743      0.009     42.290      0.000       0.357       0.392\n",
              "accommodates_2                       -0.1750      0.006    -29.646      0.000      -0.187      -0.163\n",
              "instant_bookable_                    -0.0768      0.008     -9.701      0.000      -0.092      -0.061\n",
              "host_is_superhost_                   -0.2471      0.008    -30.342      0.000      -0.263      -0.231\n",
              "neighborhood__Bronx                  -0.5485      0.018    -31.159      0.000      -0.583      -0.514\n",
              "neighborhood__Brooklyn               -0.3569      0.008    -47.246      0.000      -0.372      -0.342\n",
              "neighborhood__Queens                 -0.4139      0.010    -41.255      0.000      -0.434      -0.394\n",
              "neighborhood__Staten Island          -1.0988      0.039    -28.395      0.000      -1.175      -1.023\n",
              "log_price_dummy                       0.0614      0.016      3.848      0.000       0.030       0.093\n",
              "availability_30_dummy                 0.0186      0.012      1.565      0.117      -0.005       0.042\n",
              "beds_dummy                            0.0486      0.015      3.334      0.001       0.020       0.077\n",
              "host_listings_count_dummy            -0.0283      0.010     -2.778      0.005      -0.048      -0.008\n",
              "review_scores_rating_dummy            0.1654      0.013     12.813      0.000       0.140       0.191\n",
              "number_of_reviews_dummy               0.2444      0.009     26.719      0.000       0.226       0.262\n",
              "host_years_dummy                     -0.2954      0.010    -28.147      0.000      -0.316      -0.275\n",
              "constant_dummy                        0.2776      0.028      9.811      0.000       0.222       0.333\n",
              "accommodates_2_dummy                  0.0005      0.019      0.028      0.978      -0.037       0.038\n",
              "instant_bookable__dummy              -0.3359      0.026    -13.031      0.000      -0.386      -0.285\n",
              "host_is_superhost__dummy              0.1886      0.024      7.942      0.000       0.142       0.235\n",
              "neighborhood__Bronx_dummy             0.2574      0.054      4.729      0.000       0.151       0.364\n",
              "neighborhood__Brooklyn_dummy          0.3879      0.023     16.602      0.000       0.342       0.434\n",
              "neighborhood__Queens_dummy            0.3116      0.031     10.040      0.000       0.251       0.372\n",
              "neighborhood__Staten Island_dummy    -0.7006      0.138     -5.073      0.000      -0.971      -0.430\n",
              "=====================================================================================================\n",
              "\"\"\""
            ],
            "text/html": [
              "<table class=\"simpletable\">\n",
              "<caption>Logit Regression Results</caption>\n",
              "<tr>\n",
              "  <th>Dep. Variable:</th>         <td>drop</td>       <th>  No. Observations:  </th>   <td>485286</td>   \n",
              "</tr>\n",
              "<tr>\n",
              "  <th>Model:</th>                 <td>Logit</td>      <th>  Df Residuals:      </th>   <td>485256</td>   \n",
              "</tr>\n",
              "<tr>\n",
              "  <th>Method:</th>                 <td>MLE</td>       <th>  Df Model:          </th>   <td>    29</td>   \n",
              "</tr>\n",
              "<tr>\n",
              "  <th>Date:</th>            <td>Mon, 27 Nov 2023</td> <th>  Pseudo R-squ.:     </th>   <td>0.06207</td>  \n",
              "</tr>\n",
              "<tr>\n",
              "  <th>Time:</th>                <td>19:57:29</td>     <th>  Log-Likelihood:    </th> <td>-3.1550e+05</td>\n",
              "</tr>\n",
              "<tr>\n",
              "  <th>converged:</th>             <td>True</td>       <th>  LL-Null:           </th> <td>-3.3637e+05</td>\n",
              "</tr>\n",
              "<tr>\n",
              "  <th>Covariance Type:</th>     <td>nonrobust</td>    <th>  LLR p-value:       </th>   <td> 0.000</td>   \n",
              "</tr>\n",
              "</table>\n",
              "<table class=\"simpletable\">\n",
              "<tr>\n",
              "                  <td></td>                     <th>coef</th>     <th>std err</th>      <th>z</th>      <th>P>|z|</th>  <th>[0.025</th>    <th>0.975]</th>  \n",
              "</tr>\n",
              "<tr>\n",
              "  <th>log_price</th>                         <td>    0.1896</td> <td>    0.005</td> <td>   40.063</td> <td> 0.000</td> <td>    0.180</td> <td>    0.199</td>\n",
              "</tr>\n",
              "<tr>\n",
              "  <th>availability_30</th>                   <td>    0.2594</td> <td>    0.003</td> <td>   79.344</td> <td> 0.000</td> <td>    0.253</td> <td>    0.266</td>\n",
              "</tr>\n",
              "<tr>\n",
              "  <th>beds</th>                              <td>   -0.0109</td> <td>    0.005</td> <td>   -2.412</td> <td> 0.016</td> <td>   -0.020</td> <td>   -0.002</td>\n",
              "</tr>\n",
              "<tr>\n",
              "  <th>host_listings_count</th>               <td>    0.2066</td> <td>    0.003</td> <td>   61.479</td> <td> 0.000</td> <td>    0.200</td> <td>    0.213</td>\n",
              "</tr>\n",
              "<tr>\n",
              "  <th>review_scores_rating</th>              <td>   -0.0026</td> <td>    0.003</td> <td>   -0.750</td> <td> 0.453</td> <td>   -0.009</td> <td>    0.004</td>\n",
              "</tr>\n",
              "<tr>\n",
              "  <th>number_of_reviews</th>                 <td>   -0.0606</td> <td>    0.003</td> <td>  -20.466</td> <td> 0.000</td> <td>   -0.066</td> <td>   -0.055</td>\n",
              "</tr>\n",
              "<tr>\n",
              "  <th>host_years</th>                        <td>   -0.2393</td> <td>    0.003</td> <td>  -70.292</td> <td> 0.000</td> <td>   -0.246</td> <td>   -0.233</td>\n",
              "</tr>\n",
              "<tr>\n",
              "  <th>constant</th>                          <td>    0.3743</td> <td>    0.009</td> <td>   42.290</td> <td> 0.000</td> <td>    0.357</td> <td>    0.392</td>\n",
              "</tr>\n",
              "<tr>\n",
              "  <th>accommodates_2</th>                    <td>   -0.1750</td> <td>    0.006</td> <td>  -29.646</td> <td> 0.000</td> <td>   -0.187</td> <td>   -0.163</td>\n",
              "</tr>\n",
              "<tr>\n",
              "  <th>instant_bookable_</th>                 <td>   -0.0768</td> <td>    0.008</td> <td>   -9.701</td> <td> 0.000</td> <td>   -0.092</td> <td>   -0.061</td>\n",
              "</tr>\n",
              "<tr>\n",
              "  <th>host_is_superhost_</th>                <td>   -0.2471</td> <td>    0.008</td> <td>  -30.342</td> <td> 0.000</td> <td>   -0.263</td> <td>   -0.231</td>\n",
              "</tr>\n",
              "<tr>\n",
              "  <th>neighborhood__Bronx</th>               <td>   -0.5485</td> <td>    0.018</td> <td>  -31.159</td> <td> 0.000</td> <td>   -0.583</td> <td>   -0.514</td>\n",
              "</tr>\n",
              "<tr>\n",
              "  <th>neighborhood__Brooklyn</th>            <td>   -0.3569</td> <td>    0.008</td> <td>  -47.246</td> <td> 0.000</td> <td>   -0.372</td> <td>   -0.342</td>\n",
              "</tr>\n",
              "<tr>\n",
              "  <th>neighborhood__Queens</th>              <td>   -0.4139</td> <td>    0.010</td> <td>  -41.255</td> <td> 0.000</td> <td>   -0.434</td> <td>   -0.394</td>\n",
              "</tr>\n",
              "<tr>\n",
              "  <th>neighborhood__Staten Island</th>       <td>   -1.0988</td> <td>    0.039</td> <td>  -28.395</td> <td> 0.000</td> <td>   -1.175</td> <td>   -1.023</td>\n",
              "</tr>\n",
              "<tr>\n",
              "  <th>log_price_dummy</th>                   <td>    0.0614</td> <td>    0.016</td> <td>    3.848</td> <td> 0.000</td> <td>    0.030</td> <td>    0.093</td>\n",
              "</tr>\n",
              "<tr>\n",
              "  <th>availability_30_dummy</th>             <td>    0.0186</td> <td>    0.012</td> <td>    1.565</td> <td> 0.117</td> <td>   -0.005</td> <td>    0.042</td>\n",
              "</tr>\n",
              "<tr>\n",
              "  <th>beds_dummy</th>                        <td>    0.0486</td> <td>    0.015</td> <td>    3.334</td> <td> 0.001</td> <td>    0.020</td> <td>    0.077</td>\n",
              "</tr>\n",
              "<tr>\n",
              "  <th>host_listings_count_dummy</th>         <td>   -0.0283</td> <td>    0.010</td> <td>   -2.778</td> <td> 0.005</td> <td>   -0.048</td> <td>   -0.008</td>\n",
              "</tr>\n",
              "<tr>\n",
              "  <th>review_scores_rating_dummy</th>        <td>    0.1654</td> <td>    0.013</td> <td>   12.813</td> <td> 0.000</td> <td>    0.140</td> <td>    0.191</td>\n",
              "</tr>\n",
              "<tr>\n",
              "  <th>number_of_reviews_dummy</th>           <td>    0.2444</td> <td>    0.009</td> <td>   26.719</td> <td> 0.000</td> <td>    0.226</td> <td>    0.262</td>\n",
              "</tr>\n",
              "<tr>\n",
              "  <th>host_years_dummy</th>                  <td>   -0.2954</td> <td>    0.010</td> <td>  -28.147</td> <td> 0.000</td> <td>   -0.316</td> <td>   -0.275</td>\n",
              "</tr>\n",
              "<tr>\n",
              "  <th>constant_dummy</th>                    <td>    0.2776</td> <td>    0.028</td> <td>    9.811</td> <td> 0.000</td> <td>    0.222</td> <td>    0.333</td>\n",
              "</tr>\n",
              "<tr>\n",
              "  <th>accommodates_2_dummy</th>              <td>    0.0005</td> <td>    0.019</td> <td>    0.028</td> <td> 0.978</td> <td>   -0.037</td> <td>    0.038</td>\n",
              "</tr>\n",
              "<tr>\n",
              "  <th>instant_bookable__dummy</th>           <td>   -0.3359</td> <td>    0.026</td> <td>  -13.031</td> <td> 0.000</td> <td>   -0.386</td> <td>   -0.285</td>\n",
              "</tr>\n",
              "<tr>\n",
              "  <th>host_is_superhost__dummy</th>          <td>    0.1886</td> <td>    0.024</td> <td>    7.942</td> <td> 0.000</td> <td>    0.142</td> <td>    0.235</td>\n",
              "</tr>\n",
              "<tr>\n",
              "  <th>neighborhood__Bronx_dummy</th>         <td>    0.2574</td> <td>    0.054</td> <td>    4.729</td> <td> 0.000</td> <td>    0.151</td> <td>    0.364</td>\n",
              "</tr>\n",
              "<tr>\n",
              "  <th>neighborhood__Brooklyn_dummy</th>      <td>    0.3879</td> <td>    0.023</td> <td>   16.602</td> <td> 0.000</td> <td>    0.342</td> <td>    0.434</td>\n",
              "</tr>\n",
              "<tr>\n",
              "  <th>neighborhood__Queens_dummy</th>        <td>    0.3116</td> <td>    0.031</td> <td>   10.040</td> <td> 0.000</td> <td>    0.251</td> <td>    0.372</td>\n",
              "</tr>\n",
              "<tr>\n",
              "  <th>neighborhood__Staten Island_dummy</th> <td>   -0.7006</td> <td>    0.138</td> <td>   -5.073</td> <td> 0.000</td> <td>   -0.971</td> <td>   -0.430</td>\n",
              "</tr>\n",
              "</table>"
            ],
            "text/latex": "\\begin{center}\n\\begin{tabular}{lclc}\n\\toprule\n\\textbf{Dep. Variable:}                       &       drop       & \\textbf{  No. Observations:  } &    485286    \\\\\n\\textbf{Model:}                               &      Logit       & \\textbf{  Df Residuals:      } &    485256    \\\\\n\\textbf{Method:}                              &       MLE        & \\textbf{  Df Model:          } &        29    \\\\\n\\textbf{Date:}                                & Mon, 27 Nov 2023 & \\textbf{  Pseudo R-squ.:     } &   0.06207    \\\\\n\\textbf{Time:}                                &     19:57:29     & \\textbf{  Log-Likelihood:    } & -3.1550e+05  \\\\\n\\textbf{converged:}                           &       True       & \\textbf{  LL-Null:           } & -3.3637e+05  \\\\\n\\textbf{Covariance Type:}                     &    nonrobust     & \\textbf{  LLR p-value:       } &     0.000    \\\\\n\\bottomrule\n\\end{tabular}\n\\begin{tabular}{lcccccc}\n                                              & \\textbf{coef} & \\textbf{std err} & \\textbf{z} & \\textbf{P$> |$z$|$} & \\textbf{[0.025} & \\textbf{0.975]}  \\\\\n\\midrule\n\\textbf{log\\_price}                           &       0.1896  &        0.005     &    40.063  &         0.000        &        0.180    &        0.199     \\\\\n\\textbf{availability\\_30}                     &       0.2594  &        0.003     &    79.344  &         0.000        &        0.253    &        0.266     \\\\\n\\textbf{beds}                                 &      -0.0109  &        0.005     &    -2.412  &         0.016        &       -0.020    &       -0.002     \\\\\n\\textbf{host\\_listings\\_count}                &       0.2066  &        0.003     &    61.479  &         0.000        &        0.200    &        0.213     \\\\\n\\textbf{review\\_scores\\_rating}               &      -0.0026  &        0.003     &    -0.750  &         0.453        &       -0.009    &        0.004     \\\\\n\\textbf{number\\_of\\_reviews}                  &      -0.0606  &        0.003     &   -20.466  &         0.000        &       -0.066    &       -0.055     \\\\\n\\textbf{host\\_years}                          &      -0.2393  &        0.003     &   -70.292  &         0.000        &       -0.246    &       -0.233     \\\\\n\\textbf{constant}                             &       0.3743  &        0.009     &    42.290  &         0.000        &        0.357    &        0.392     \\\\\n\\textbf{accommodates\\_2}                      &      -0.1750  &        0.006     &   -29.646  &         0.000        &       -0.187    &       -0.163     \\\\\n\\textbf{instant\\_bookable\\_}                  &      -0.0768  &        0.008     &    -9.701  &         0.000        &       -0.092    &       -0.061     \\\\\n\\textbf{host\\_is\\_superhost\\_}                &      -0.2471  &        0.008     &   -30.342  &         0.000        &       -0.263    &       -0.231     \\\\\n\\textbf{neighborhood\\_\\_Bronx}                &      -0.5485  &        0.018     &   -31.159  &         0.000        &       -0.583    &       -0.514     \\\\\n\\textbf{neighborhood\\_\\_Brooklyn}             &      -0.3569  &        0.008     &   -47.246  &         0.000        &       -0.372    &       -0.342     \\\\\n\\textbf{neighborhood\\_\\_Queens}               &      -0.4139  &        0.010     &   -41.255  &         0.000        &       -0.434    &       -0.394     \\\\\n\\textbf{neighborhood\\_\\_Staten Island}        &      -1.0988  &        0.039     &   -28.395  &         0.000        &       -1.175    &       -1.023     \\\\\n\\textbf{log\\_price\\_dummy}                    &       0.0614  &        0.016     &     3.848  &         0.000        &        0.030    &        0.093     \\\\\n\\textbf{availability\\_30\\_dummy}              &       0.0186  &        0.012     &     1.565  &         0.117        &       -0.005    &        0.042     \\\\\n\\textbf{beds\\_dummy}                          &       0.0486  &        0.015     &     3.334  &         0.001        &        0.020    &        0.077     \\\\\n\\textbf{host\\_listings\\_count\\_dummy}         &      -0.0283  &        0.010     &    -2.778  &         0.005        &       -0.048    &       -0.008     \\\\\n\\textbf{review\\_scores\\_rating\\_dummy}        &       0.1654  &        0.013     &    12.813  &         0.000        &        0.140    &        0.191     \\\\\n\\textbf{number\\_of\\_reviews\\_dummy}           &       0.2444  &        0.009     &    26.719  &         0.000        &        0.226    &        0.262     \\\\\n\\textbf{host\\_years\\_dummy}                   &      -0.2954  &        0.010     &   -28.147  &         0.000        &       -0.316    &       -0.275     \\\\\n\\textbf{constant\\_dummy}                      &       0.2776  &        0.028     &     9.811  &         0.000        &        0.222    &        0.333     \\\\\n\\textbf{accommodates\\_2\\_dummy}               &       0.0005  &        0.019     &     0.028  &         0.978        &       -0.037    &        0.038     \\\\\n\\textbf{instant\\_bookable\\_\\_dummy}           &      -0.3359  &        0.026     &   -13.031  &         0.000        &       -0.386    &       -0.285     \\\\\n\\textbf{host\\_is\\_superhost\\_\\_dummy}         &       0.1886  &        0.024     &     7.942  &         0.000        &        0.142    &        0.235     \\\\\n\\textbf{neighborhood\\_\\_Bronx\\_dummy}         &       0.2574  &        0.054     &     4.729  &         0.000        &        0.151    &        0.364     \\\\\n\\textbf{neighborhood\\_\\_Brooklyn\\_dummy}      &       0.3879  &        0.023     &    16.602  &         0.000        &        0.342    &        0.434     \\\\\n\\textbf{neighborhood\\_\\_Queens\\_dummy}        &       0.3116  &        0.031     &    10.040  &         0.000        &        0.251    &        0.372     \\\\\n\\textbf{neighborhood\\_\\_Staten Island\\_dummy} &      -0.7006  &        0.138     &    -5.073  &         0.000        &       -0.971    &       -0.430     \\\\\n\\bottomrule\n\\end{tabular}\n%\\caption{Logit Regression Results}\n\\end{center}"
          },
          "metadata": {},
          "execution_count": 15
        }
      ]
    },
    {
      "cell_type": "code",
      "source": [],
      "metadata": {
        "id": "ZDpvKKmx7t-R"
      },
      "execution_count": null,
      "outputs": []
    }
  ],
  "metadata": {
    "colab": {
      "provenance": []
    },
    "kernelspec": {
      "display_name": "Python 3",
      "name": "python3"
    },
    "language_info": {
      "name": "python"
    }
  },
  "nbformat": 4,
  "nbformat_minor": 0
}